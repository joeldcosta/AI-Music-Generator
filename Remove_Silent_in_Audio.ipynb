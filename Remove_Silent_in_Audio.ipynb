{
  "nbformat": 4,
  "nbformat_minor": 0,
  "metadata": {
    "colab": {
      "provenance": [],
      "authorship_tag": "ABX9TyNoG8fFY9NGPWVe3MwRxPza",
      "include_colab_link": true
    },
    "kernelspec": {
      "name": "python3",
      "display_name": "Python 3"
    },
    "language_info": {
      "name": "python"
    }
  },
  "cells": [
    {
      "cell_type": "markdown",
      "metadata": {
        "id": "view-in-github",
        "colab_type": "text"
      },
      "source": [
        "<a href=\"https://colab.research.google.com/github/joeldcosta/AI-Music-Generator/blob/main/Remove_Silent_in_Audio.ipynb\" target=\"_parent\"><img src=\"https://colab.research.google.com/assets/colab-badge.svg\" alt=\"Open In Colab\"/></a>"
      ]
    },
    {
      "cell_type": "markdown",
      "source": [
        "#Remove Audio Silence In Python"
      ],
      "metadata": {
        "id": "5gjffpfOjSPj"
      }
    },
    {
      "cell_type": "code",
      "execution_count": null,
      "metadata": {
        "cellView": "form",
        "id": "aBWo9bsvgGRl"
      },
      "outputs": [],
      "source": [
        "#@markdown Install PIP and SUDO and install\n",
        "!pip install webrtcvad==2.0.10 wave pydub simpleaudio numpy matplotlib\n",
        "!sudo apt-get install ffmpeg \n",
        "!sudo apt-get install -y python-pydub"
      ]
    },
    {
      "cell_type": "code",
      "source": [
        "#@markdown #Upload Your Audio\n",
        "from google.colab import files\n",
        "uploaded = files.upload()"
      ],
      "metadata": {
        "cellView": "form",
        "id": "NhLKSieChHWU"
      },
      "execution_count": null,
      "outputs": []
    },
    {
      "cell_type": "code",
      "source": [
        "#@markdown Convert MP3 to WAV Format 👇Copy Paste File Name here\n",
        "# import required modules\n",
        "from os import path\n",
        "from pydub import AudioSegment\n",
        "\n",
        "# assign files\n",
        "input_file = \"\" #@param {type:\"string\"}\n",
        "output_file = \"result.wav\" \n",
        "\n",
        "# convert mp3 file to wav file\n",
        "sound = AudioSegment.from_mp3(input_file)\n",
        "sound.export(output_file, format=\"wav\")\n"
      ],
      "metadata": {
        "cellView": "form",
        "id": "xodqqCOUh0ZL"
      },
      "execution_count": null,
      "outputs": []
    },
    {
      "cell_type": "code",
      "source": [
        "#@markdown Download Silence Remover File\n",
        "!wget https://raw.githubusercontent.com/joeldcosta/Audio-Silence-Remover/main/silenceremove.py"
      ],
      "metadata": {
        "cellView": "form",
        "id": "lgKejIlTz-0H"
      },
      "execution_count": null,
      "outputs": []
    },
    {
      "cell_type": "code",
      "source": [
        "#@markdown Remove Silent\n",
        "!python \"silenceremove.py\" 3 \"result.wav\""
      ],
      "metadata": {
        "cellView": "form",
        "id": "60NdItF1gS4K"
      },
      "execution_count": null,
      "outputs": []
    },
    {
      "cell_type": "code",
      "source": [
        "#@markdown Convert WAV to MP3\n",
        "from pydub import AudioSegment\n",
        "\n",
        "AudioSegment.from_wav(\"Non-Silenced-Audio.wav\").export(\"FINAL.mp3\", format=\"mp3\")"
      ],
      "metadata": {
        "cellView": "form",
        "id": "KKLbDbMqiIJS"
      },
      "execution_count": null,
      "outputs": []
    },
    {
      "cell_type": "code",
      "source": [
        "#@markdown Download FINAL.mp3\n",
        "from google.colab import files\n",
        "files.download('FINAL.mp3')"
      ],
      "metadata": {
        "cellView": "form",
        "id": "alfHiQyYmATy"
      },
      "execution_count": null,
      "outputs": []
    },
    {
      "cell_type": "code",
      "source": [
        "#@markdown Comparing Plot Size\n",
        "import matplotlib.pyplot as plt\n",
        "import numpy as np\n",
        "import wave, sys\n",
        "\n",
        "# shows the sound waves\n",
        "def visualize(path: str):\n",
        "\n",
        "\t# reading the audio file\n",
        "\traw = wave.open(path)\n",
        "\t\n",
        "\t# reads all the frames\n",
        "\t# -1 indicates all or max frames\n",
        "\tsignal = raw.readframes(-1)\n",
        "\tsignal = np.frombuffer(signal, dtype =\"int16\")\n",
        "\t\n",
        "\t# gets the frame rate\n",
        "\tf_rate = raw.getframerate()\n",
        "\n",
        "\t# to Plot the x-axis in seconds\n",
        "\t# you need get the frame rate\n",
        "\t# and divide by size of your signal\n",
        "\t# to create a Time Vector\n",
        "\t# spaced linearly with the size\n",
        "\t# of the audio file\n",
        "\ttime = np.linspace(\n",
        "\t\t0, # start\n",
        "\t\tlen(signal) / f_rate,\n",
        "\t\tnum = len(signal)\n",
        "\t)\n",
        "\n",
        "\t# using matplotlib to plot\n",
        "\t# creates a new figure\n",
        "\tplt.figure(1)\n",
        "\t\n",
        "\t# title of the plot\n",
        "\tplt.title(\"Sound Wave\")\n",
        "\t\n",
        "\t# label of x-axis\n",
        "\tplt.xlabel(\"Time\")\n",
        "\t\n",
        "\t# actual plotting\n",
        "\tplt.plot(time, signal)\n",
        "\t\n",
        "\t# shows the plot\n",
        "\t# in new window\n",
        "\tplt.show()\n",
        "\n",
        "\t# you can also save\n",
        "\t# the plot using\n",
        "\t# plt.savefig('filename')\n",
        "\n",
        "# gets the command line Value\n",
        "path = \"result.wav\"\n",
        "print(\"Time Line - Before\")\n",
        "visualize(path)\n",
        "\n",
        "path = \"Non-Silenced-Audio.wav\"\n",
        "print(\"Time Line - After\")\n",
        "visualize(path)\n"
      ],
      "metadata": {
        "colab": {
          "base_uri": "https://localhost:8080/",
          "height": 608
        },
        "cellView": "form",
        "id": "rO5IXe6rA8pK",
        "outputId": "2a7bba6b-dd27-4926-e1ea-59ce8a87c544"
      },
      "execution_count": 5,
      "outputs": [
        {
          "output_type": "stream",
          "name": "stdout",
          "text": [
            "Time Line - Before\n"
          ]
        },
        {
          "output_type": "display_data",
          "data": {
            "text/plain": [
              "<Figure size 432x288 with 1 Axes>"
            ],
            "image/png": "[encoded data removed]"
          },
          "metadata": {
            "needs_background": "light"
          }
        },
        {
          "output_type": "stream",
          "name": "stdout",
          "text": [
            "Time Line - After\n"
          ]
        },
        {
          "output_type": "display_data",
          "data": {
            "text/plain": [
              "<Figure size 432x288 with 1 Axes>"
            ],
            "image/png": "[encoded data removed]"
          },
          "metadata": {
            "needs_background": "light"
          }
        }
      ]
    },
    {
      "cell_type": "code",
      "source": [
        "#@markdown Clear Files\n",
        "!rm -f \"Non-Silenced-Audio.wav\"\n",
        "!rm -f \"result.wav\"\n",
        "!rm -f \"FINAL.mp3\""
      ],
      "metadata": {
        "cellView": "form",
        "id": "JU4XuhiF2TJ2"
      },
      "execution_count": 74,
      "outputs": []
    }
  ]
}